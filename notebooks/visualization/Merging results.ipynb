{
 "cells": [
  {
   "cell_type": "code",
   "execution_count": 2,
   "metadata": {},
   "outputs": [],
   "source": [
    "import torch, pickle"
   ]
  },
  {
   "cell_type": "code",
   "execution_count": 24,
   "metadata": {},
   "outputs": [],
   "source": [
    "path1 = r'D:\\Uni\\BA\\ColabOutputs\\ba20_100_random\\ba20_100_random_3_part1'\n",
    "path2 = r'D:\\Uni\\BA\\ColabOutputs\\ba20_100_random\\ba20_100_random_3_part2'\n",
    "with open(path1 + '/scores.pickle', 'rb') as f:\n",
    "    scores1 = pickle.load(f)\n",
    "with open(path1 + '/matrices.pickle', 'rb') as f:\n",
    "    matrices1 = pickle.load(f)\n",
    "with open(path1 + '/tprs.pickle', 'rb') as f:\n",
    "    tprs1 = pickle.load(f)\n",
    "with open(path1 + '/fprs.pickle', 'rb') as f:\n",
    "    fprs1 = pickle.load(f)\n",
    "with open(path1 + '/accs.pickle', 'rb') as f:\n",
    "    accs1 = pickle.load(f)\n",
    "with open(path1 + '/losses.pickle', 'rb') as f:\n",
    "    losses1 = pickle.load(f)\n",
    "with open(path1 + '/timestamps.pickle', 'rb') as f:\n",
    "    timestamps1 = pickle.load(f)\n",
    "\n",
    "    \n",
    "with open(path2 + '/scores.pickle', 'rb') as f:\n",
    "    scores2 = pickle.load(f)\n",
    "with open(path2 + '/matrices.pickle', 'rb') as f:\n",
    "    matrices2 = pickle.load(f)\n",
    "with open(path2 + '/tprs.pickle', 'rb') as f:\n",
    "    tprs2 = pickle.load(f)\n",
    "with open(path2 + '/fprs.pickle', 'rb') as f:\n",
    "    fprs2 = pickle.load(f)\n",
    "with open(path2 + '/accs.pickle', 'rb') as f:\n",
    "    accs2 = pickle.load(f)\n",
    "with open(path2 + '/losses.pickle', 'rb') as f:\n",
    "    losses2 = pickle.load(f)\n",
    "with open(path2 + '/timestamps.pickle', 'rb') as f:\n",
    "    timestamps2 = pickle.load(f)"
   ]
  },
  {
   "cell_type": "code",
   "execution_count": 25,
   "metadata": {},
   "outputs": [
    {
     "name": "stdout",
     "output_type": "stream",
     "text": [
      "504\n",
      "504\n",
      "504\n",
      "504\n",
      "504\n",
      "504\n",
      "504\n"
     ]
    }
   ],
   "source": [
    "scores = scores1 + scores2\n",
    "matrices = matrices1 + matrices2\n",
    "tprs = tprs1 + tprs2\n",
    "fprs = fprs1 + fprs2\n",
    "accs = accs1 + accs2\n",
    "losses = losses1 + losses2\n",
    "timestamps = timestamps1 + timestamps2\n",
    "print(len(scores))\n",
    "print(len(matrices))\n",
    "print(len(tprs))\n",
    "print(len(fprs))\n",
    "print(len(accs))\n",
    "print(len(losses))\n",
    "print(len(timestamps))"
   ]
  },
  {
   "cell_type": "code",
   "execution_count": 26,
   "metadata": {},
   "outputs": [
    {
     "name": "stdout",
     "output_type": "stream",
     "text": [
      "0.9\n"
     ]
    }
   ],
   "source": [
    "scores = scores[:501]\n",
    "matrices = matrices[:501]\n",
    "tprs = tprs[:501]\n",
    "fprs = fprs[:501]\n",
    "accs = accs[:501]\n",
    "losses = losses[:501]\n",
    "timestamps = timestamps[:501]\n",
    "print(accs[-1])"
   ]
  },
  {
   "cell_type": "code",
   "execution_count": 27,
   "metadata": {},
   "outputs": [],
   "source": [
    "target_path = r'D:\\Uni\\BA\\ColabOutputs\\ba20_100_random\\3'\n",
    "with open(target_path + '/scores.pickle', 'wb') as f:\n",
    "    pickle.dump(scores, f)\n",
    "with open(target_path + '/matrices.pickle', 'wb') as f:\n",
    "    pickle.dump(matrices, f)\n",
    "with open(target_path + '/tprs.pickle', 'wb') as f:\n",
    "    pickle.dump(tprs, f)\n",
    "with open(target_path + '/fprs.pickle', 'wb') as f:\n",
    "    pickle.dump(fprs, f)\n",
    "with open(target_path + '/accs.pickle', 'wb') as f:\n",
    "    pickle.dump(accs, f)\n",
    "with open(target_path + '/losses.pickle', 'wb') as f:\n",
    "    pickle.dump(losses, f)\n",
    "with open(target_path + '/timestamps.pickle', 'wb') as f:\n",
    "    pickle.dump(timestamps, f)"
   ]
  }
 ],
 "metadata": {
  "kernelspec": {
   "display_name": "Python 3",
   "language": "python",
   "name": "python3"
  },
  "language_info": {
   "codemirror_mode": {
    "name": "ipython",
    "version": 3
   },
   "file_extension": ".py",
   "mimetype": "text/x-python",
   "name": "python",
   "nbconvert_exporter": "python",
   "pygments_lexer": "ipython3",
   "version": "3.8.5"
  }
 },
 "nbformat": 4,
 "nbformat_minor": 4
}
