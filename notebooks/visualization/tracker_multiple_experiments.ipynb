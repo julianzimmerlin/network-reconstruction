{
 "cells": [
  {
   "cell_type": "code",
   "execution_count": 42,
   "metadata": {},
   "outputs": [
    {
     "name": "stdout",
     "output_type": "stream",
     "text": [
      "D:\\Uni\\BA\\ColabOutputs\\ba20_100_random\n"
     ]
    }
   ],
   "source": [
    "import matplotlib\n",
    "import matplotlib.pyplot as plt\n",
    "import pickle\n",
    "import torch\n",
    "import math\n",
    "\n",
    "#path = \"D:\\\\Uni\\\\BA\\\\Development\\\\SigmoidGraphNetwork\\\\SGN_logs\\\\EXP_cml10\"\n",
    "#path = \"D:\\\\Uni\\\\BA\\\\Development\\\\SigmoidGraphNetwork\\\\GGN_logs\\\\EXP_cml10\"\n",
    "#path = \"D:\\\\Uni\\\\BA\\\\Development\\\\SigmoidGraphNetwork\\\\SGN_logs\\\\EXP_SIS_bull_5k\"\n",
    "#path = \"D:\\\\Uni\\\\BA\\\\Development\\\\SigmoidGraphNetwork\\\\GGN_logs\\\\EXP_SIS_bull_5k\"\n",
    "#path = \"D:\\\\Uni\\\\BA\\\\Development\\\\SigmoidGraphNetwork\\\\GGN_logs\\\\EXP_Voter_ba20_100_morecycles\"\n",
    "path = r'D:\\Uni\\BA\\ColabOutputs\\ba20_100_random'\n",
    "print(path)"
   ]
  },
  {
   "cell_type": "markdown",
   "metadata": {},
   "source": [
    "## Visualize training progression"
   ]
  },
  {
   "cell_type": "code",
   "execution_count": 43,
   "metadata": {},
   "outputs": [],
   "source": [
    "accs = list()\n",
    "losses = list()\n",
    "tprs = list()\n",
    "fprs = list()\n",
    "timestamps = list()\n",
    "for i in range(5):\n",
    "    help_path = path + \"/\" + str(i)\n",
    "    with open(help_path+'/accs.pickle', 'rb') as f:\n",
    "        ls = pickle.load(f)\n",
    "        accs.append(torch.tensor(ls))\n",
    "    with open(help_path+'/losses.pickle', 'rb') as f:\n",
    "        ls = pickle.load(f)\n",
    "        losses.append(torch.tensor(ls))\n",
    "    with open(help_path+'/tprs.pickle', 'rb') as f:#\n",
    "        ls = pickle.load(f)\n",
    "        tprs.append(torch.tensor(ls))\n",
    "    with open(help_path+'/fprs.pickle', 'rb') as f:\n",
    "        ls = pickle.load(f)\n",
    "        fprs.append(torch.tensor(ls))\n",
    "    with open(help_path+'/timestamps.pickle', 'rb') as f:\n",
    "        ls = pickle.load(f)\n",
    "        timestamps.append(torch.tensor(ls))\n",
    "accs = torch.stack(accs)\n",
    "losses = torch.stack(losses)\n",
    "tprs = torch.stack(tprs)\n",
    "fprs = torch.stack(fprs)\n",
    "timestamps = torch.stack(timestamps)\n",
    "mean_accs = accs.mean(dim=0)\n",
    "mean_losses = losses.mean(dim=0)\n",
    "mean_tprs = tprs.mean(dim=0)\n",
    "mean_fprs = fprs.mean(dim=0)\n",
    "mean_timestamps = timestamps.mean(dim=0)"
   ]
  },
  {
   "cell_type": "code",
   "execution_count": 6,
   "metadata": {},
   "outputs": [],
   "source": [
    "def truncate_float(num, decimals=0):\n",
    "    factor = 10.0 ** decimals\n",
    "    return math.trunc(factor*num) / factor"
   ]
  },
  {
   "cell_type": "code",
   "execution_count": 10,
   "metadata": {
    "scrolled": true
   },
   "outputs": [
    {
     "data": {
      "image/png": "[encoded data removed]",
      "text/plain": [
       "<Figure size 432x288 with 1 Axes>"
      ]
     },
     "metadata": {},
     "output_type": "display_data"
    }
   ],
   "source": [
    "x = range(mean_tprs.size()[0])\n",
    "fig, ax1 = plt.subplots()\n",
    "\n",
    "ax1.set_xlabel('generation')\n",
    "#ax1.set_ylabel('TPR/FPR')\n",
    "ax1.plot(x, mean_tprs.numpy(), label='Mean TPR')\n",
    "ax1.plot(x, mean_fprs.numpy(), label='Mean FPR')\n",
    "ax1.plot(x, mean_losses.numpy(), label='Mean Loss')\n",
    "ax1.plot(x, mean_accs.numpy(), label='Mean Accuracy')\n",
    "ax1.set_ylim([0.0,1.0])\n",
    "#ax1.legend(loc='right')\n",
    "ax1.legend(loc='lower left', bbox_to_anchor=[1.01, 0])\n",
    "\n",
    "fig.patch.set_facecolor('xkcd:white')\n",
    "fig.suptitle('\\nMean final accuracy: ' + str(truncate_float(mean_accs.numpy()[-1], 5)) +\n",
    "             '\\nMean time needed: ' + str(truncate_float(mean_timestamps.numpy()[-1] / 60, 3)) + ' minutes', y = 1.05)\n",
    "\n",
    "plt.show()"
   ]
  },
  {
   "cell_type": "code",
   "execution_count": 11,
   "metadata": {},
   "outputs": [],
   "source": [
    "fig.savefig('./tracker_figures/EXP_SIS_bull_5k/GGN.png', bbox_inches='tight', pad_inches=0.5, dpi=300)"
   ]
  },
  {
   "cell_type": "markdown",
   "metadata": {},
   "source": [
    "## Output for Proposal Talk"
   ]
  },
  {
   "cell_type": "code",
   "execution_count": 48,
   "metadata": {},
   "outputs": [
    {
     "name": "stdout",
     "output_type": "stream",
     "text": [
      "tensor(0.9137)\n",
      "tensor([0.9211, 0.9053, 0.9105, 0.9000, 0.9316])\n"
     ]
    }
   ],
   "source": [
    "print(mean_accs[-4])\n",
    "#print(mean_timestamps.numpy()[-1])\n",
    "print(accs[:, -4])"
   ]
  }
 ],
 "metadata": {
  "kernelspec": {
   "display_name": "Python 3",
   "language": "python",
   "name": "python3"
  },
  "language_info": {
   "codemirror_mode": {
    "name": "ipython",
    "version": 3
   },
   "file_extension": ".py",
   "mimetype": "text/x-python",
   "name": "python",
   "nbconvert_exporter": "python",
   "pygments_lexer": "ipython3",
   "version": "3.8.5"
  }
 },
 "nbformat": 4,
 "nbformat_minor": 4
}
