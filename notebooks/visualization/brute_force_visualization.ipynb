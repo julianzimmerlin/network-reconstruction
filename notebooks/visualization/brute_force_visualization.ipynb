{
 "cells": [
  {
   "cell_type": "code",
   "execution_count": 3,
   "metadata": {},
   "outputs": [],
   "source": [
    "import matplotlib\n",
    "import matplotlib.pyplot as plt\n",
    "import pickle\n",
    "import torch"
   ]
  },
  {
   "cell_type": "code",
   "execution_count": 27,
   "metadata": {
    "scrolled": true
   },
   "outputs": [
    {
     "name": "stdout",
     "output_type": "stream",
     "text": [
      "D:\\Uni\\BA\\Development\\BruteForce\\analysis_outputs\\final\\SIS_50_50_2000_TESTSET\\0\n"
     ]
    }
   ],
   "source": [
    "#data_address = r'D:\\Uni\\BA\\Development\\BruteForce\\analysis_outputs\\SIS_bull_5k_0.5_0.5'\n",
    "data_address = r'D:\\Uni\\BA\\Development\\BruteForce\\analysis_outputs\\final\\SIS_50_50_2000_TESTSET\\0'\n",
    "print(data_address)"
   ]
  },
  {
   "cell_type": "code",
   "execution_count": 28,
   "metadata": {},
   "outputs": [],
   "source": [
    "with open(data_address + '/mean_by_dist.pickle', 'rb') as f:\n",
    "    mean_by_dist = pickle.load(f)\n",
    "with open(data_address + '/max_mean_by_dist.pickle', 'rb') as f:\n",
    "    max_mean_by_dist = pickle.load(f)\n",
    "with open(data_address + '/min_mean_by_dist.pickle', 'rb') as f:\n",
    "    min_mean_by_dist = pickle.load(f)"
   ]
  },
  {
   "cell_type": "code",
   "execution_count": 29,
   "metadata": {},
   "outputs": [
    {
     "name": "stdout",
     "output_type": "stream",
     "text": [
      "torch.Size([2, 11])\n"
     ]
    }
   ],
   "source": [
    "upper_span = max_mean_by_dist - mean_by_dist\n",
    "lower_span = (-1)*(min_mean_by_dist - mean_by_dist)\n",
    "spans = torch.stack((lower_span, upper_span))\n",
    "print(spans.size())"
   ]
  },
  {
   "cell_type": "code",
   "execution_count": 30,
   "metadata": {},
   "outputs": [
    {
     "data": {
      "image/png": "[encoded data removed]",
      "text/plain": [
       "<Figure size 432x288 with 1 Axes>"
      ]
     },
     "metadata": {
      "needs_background": "light"
     },
     "output_type": "display_data"
    }
   ],
   "source": [
    "x = range(mean_by_dist.size()[0])\n",
    "fig, ax = plt.subplots()\n",
    "ax.set_xlabel('Hamming distance to true adjacency matrix')\n",
    "#ax.set_ylabel('Mean Loss over 10 runs')\n",
    "ax.set_ylabel('Loss')\n",
    "ax.errorbar(x, mean_by_dist.numpy(), yerr=spans, capsize=4, elinewidth=1, fmt='o:', )\n",
    "fig.suptitle('SIS_50_50_2000_TESTSET')\n",
    "plt.show()"
   ]
  },
  {
   "cell_type": "code",
   "execution_count": 31,
   "metadata": {},
   "outputs": [],
   "source": [
    "fig.savefig('./brute_force_figures/final/SIS_50_50_2000_TESTSET.png', dpi=300)"
   ]
  }
 ],
 "metadata": {
  "kernelspec": {
   "display_name": "Python 3",
   "language": "python",
   "name": "python3"
  },
  "language_info": {
   "codemirror_mode": {
    "name": "ipython",
    "version": 3
   },
   "file_extension": ".py",
   "mimetype": "text/x-python",
   "name": "python",
   "nbconvert_exporter": "python",
   "pygments_lexer": "ipython3",
   "version": "3.8.5"
  }
 },
 "nbformat": 4,
 "nbformat_minor": 4
}
