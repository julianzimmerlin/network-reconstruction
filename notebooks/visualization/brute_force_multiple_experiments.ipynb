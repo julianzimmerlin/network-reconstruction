{
 "cells": [
  {
   "cell_type": "code",
   "execution_count": 19,
   "metadata": {},
   "outputs": [],
   "source": [
    "import matplotlib\n",
    "import matplotlib.pyplot as plt\n",
    "import pickle\n",
    "import torch"
   ]
  },
  {
   "cell_type": "code",
   "execution_count": 1,
   "metadata": {},
   "outputs": [
    {
     "name": "stdout",
     "output_type": "stream",
     "text": [
      "D:\\Uni\\BA\\Development\\BruteForce\\analysis_outputs\\cml_bull_5k_\n"
     ]
    }
   ],
   "source": [
    "#data_address = r'D:\\Uni\\BA\\Development\\BruteForce\\analysis_outputs\\SIS_bull_5k_0.5_0.5'\n",
    "data_address = r'D:\\Uni\\BA\\Development\\BruteForce\\analysis_outputs\\cml_bull_5k_'\n",
    "print(data_address)"
   ]
  },
  {
   "cell_type": "code",
   "execution_count": 4,
   "metadata": {},
   "outputs": [],
   "source": [
    "scores = list()\n",
    "for i in range(3):\n",
    "    help_path = data_address + str(i)\n",
    "    with open(help_path + '/mean_by_dist.pickle', 'rb') as f:\n",
    "        mean_by_dist = pickle.load(f)\n",
    "    with open(help_path + '/max_mean_by_dist.pickle', 'rb') as f:\n",
    "        max_mean_by_dist = pickle.load(f)\n",
    "    with open(help_path + '/min_mean_by_dist.pickle', 'rb') as f:\n",
    "        min_mean_by_dist = pickle.load(f)\n",
    "scores = torch.stack(scores)"
   ]
  },
  {
   "cell_type": "code",
   "execution_count": 5,
   "metadata": {},
   "outputs": [
    {
     "name": "stdout",
     "output_type": "stream",
     "text": [
      "torch.Size([2, 11])\n"
     ]
    }
   ],
   "source": [
    "upper_span = max_mean_by_dist - mean_by_dist\n",
    "lower_span = (-1)*(min_mean_by_dist - mean_by_dist)\n",
    "spans = torch.stack((lower_span, upper_span))\n",
    "print(spans.size())"
   ]
  },
  {
   "cell_type": "code",
   "execution_count": 6,
   "metadata": {},
   "outputs": [
    {
     "data": {
      "image/png": "[encoded data removed]",
      "text/plain": [
       "<Figure size 432x288 with 1 Axes>"
      ]
     },
     "metadata": {
      "needs_background": "light"
     },
     "output_type": "display_data"
    }
   ],
   "source": [
    "x = range(mean_by_dist.size()[0])\n",
    "fig, ax = plt.subplots()\n",
    "ax.set_xlabel('Hamming Distance to Ground Truth Adjacency Matrix')\n",
    "#ax.set_ylabel('Mean Loss over 10 runs')\n",
    "ax.set_ylabel('Loss')\n",
    "ax.errorbar(x, mean_by_dist.numpy(), yerr=spans, capsize=4, elinewidth=1, fmt='o:', )\n",
    "fig.suptitle('CML on Bull Graph (preliminary)')\n",
    "plt.show()"
   ]
  },
  {
   "cell_type": "code",
   "execution_count": 7,
   "metadata": {},
   "outputs": [],
   "source": [
    "fig.savefig('./brute_force_figures/cml_bull_0.png', dpi=300)"
   ]
  },
  {
   "cell_type": "markdown",
   "metadata": {},
   "source": [
    "## Colab timeout fix"
   ]
  },
  {
   "cell_type": "code",
   "execution_count": 1,
   "metadata": {},
   "outputs": [],
   "source": [
    "import torch, pickle, os\n",
    "adr = r\"D:\\Uni\\BA\\ColabOutputs\\final\\bruteforce\\CML_5k_4_1take_20/\""
   ]
  },
  {
   "cell_type": "code",
   "execution_count": 2,
   "metadata": {},
   "outputs": [
    {
     "name": "stdout",
     "output_type": "stream",
     "text": [
      "1024\n"
     ]
    }
   ],
   "source": [
    "for i in range(4):\n",
    "    with open(adr+str(i) + \"/losses.pickle\", 'rb') as f:\n",
    "        losses1 = pickle.load(f)\n",
    "    if i ==0:\n",
    "        losses = losses1\n",
    "    else:\n",
    "        losses = torch.cat((losses, losses1))\n",
    "print(len(losses))"
   ]
  },
  {
   "cell_type": "code",
   "execution_count": 3,
   "metadata": {},
   "outputs": [],
   "source": [
    "save_address =adr+\"merged/losses.pickle\"\n",
    "if not os.path.exists(adr+\"merged\"):\n",
    "    os.makedirs(adr+\"merged\")\n",
    "with open(save_address, 'wb') as f:\n",
    "    pickle.dump(losses, f)"
   ]
  },
  {
   "cell_type": "code",
   "execution_count": 20,
   "metadata": {},
   "outputs": [
    {
     "ename": "UnsupportedOperation",
     "evalue": "read",
     "output_type": "error",
     "traceback": [
      "\u001b[1;31m---------------------------------------------------------------------------\u001b[0m",
      "\u001b[1;31mUnsupportedOperation\u001b[0m                      Traceback (most recent call last)",
      "\u001b[1;32m<ipython-input-20-a839c3717275>\u001b[0m in \u001b[0;36m<module>\u001b[1;34m\u001b[0m\n\u001b[0;32m      1\u001b[0m \u001b[1;32mwith\u001b[0m \u001b[0mopen\u001b[0m\u001b[1;33m(\u001b[0m\u001b[0madr\u001b[0m\u001b[1;33m+\u001b[0m\u001b[1;34m\"0/matrices.pickle\"\u001b[0m\u001b[1;33m,\u001b[0m \u001b[1;34m'wb'\u001b[0m\u001b[1;33m)\u001b[0m \u001b[1;32mas\u001b[0m \u001b[0mf\u001b[0m\u001b[1;33m:\u001b[0m\u001b[1;33m\u001b[0m\u001b[1;33m\u001b[0m\u001b[0m\n\u001b[1;32m----> 2\u001b[1;33m     \u001b[0mmat\u001b[0m \u001b[1;33m=\u001b[0m \u001b[0mpickle\u001b[0m\u001b[1;33m.\u001b[0m\u001b[0mload\u001b[0m\u001b[1;33m(\u001b[0m\u001b[0mf\u001b[0m\u001b[1;33m)\u001b[0m\u001b[1;33m\u001b[0m\u001b[1;33m\u001b[0m\u001b[0m\n\u001b[0m\u001b[0;32m      3\u001b[0m \u001b[1;32mwith\u001b[0m \u001b[0mopen\u001b[0m\u001b[1;33m(\u001b[0m\u001b[0madr\u001b[0m\u001b[1;33m+\u001b[0m\u001b[1;34m\"merged/matrices.pickle\"\u001b[0m\u001b[1;33m,\u001b[0m \u001b[1;34m'rb'\u001b[0m\u001b[1;33m)\u001b[0m \u001b[1;32mas\u001b[0m \u001b[0mf\u001b[0m\u001b[1;33m:\u001b[0m\u001b[1;33m\u001b[0m\u001b[1;33m\u001b[0m\u001b[0m\n\u001b[0;32m      4\u001b[0m     \u001b[0mpickle\u001b[0m\u001b[1;33m.\u001b[0m\u001b[0mdump\u001b[0m\u001b[1;33m(\u001b[0m\u001b[0mmat\u001b[0m\u001b[1;33m,\u001b[0m \u001b[0mf\u001b[0m\u001b[1;33m)\u001b[0m\u001b[1;33m\u001b[0m\u001b[1;33m\u001b[0m\u001b[0m\n",
      "\u001b[1;31mUnsupportedOperation\u001b[0m: read"
     ]
    }
   ],
   "source": [
    "with open(adr+\"0/matrices.pickle\", 'wb') as f:\n",
    "    mat = pickle.load(f)\n",
    "with open(adr+\"merged/matrices.pickle\", 'rb') as f:\n",
    "    pickle.dump(mat, f)"
   ]
  },
  {
   "cell_type": "markdown",
   "metadata": {},
   "source": [
    "## Merge losses"
   ]
  },
  {
   "cell_type": "code",
   "execution_count": 10,
   "metadata": {},
   "outputs": [],
   "source": [
    "import torch, pickle\n",
    "base_address = r\"D:\\Uni\\BA\\ColabOutputs\\colab_cml_bull_5k\""
   ]
  },
  {
   "cell_type": "code",
   "execution_count": 11,
   "metadata": {},
   "outputs": [
    {
     "name": "stdout",
     "output_type": "stream",
     "text": [
      "torch.Size([1024, 1])\n",
      "torch.Size([1024, 5])\n"
     ]
    }
   ],
   "source": [
    "losses_ls = list()\n",
    "for i in range(5):\n",
    "    help_path = base_address + '/'+ str(i) + \"/losses.pickle\"\n",
    "    with open(help_path, 'rb') as f:\n",
    "        losses_ls.append(pickle.load(f))\n",
    "losses = torch.cat(losses_ls, dim=1)\n",
    "print(losses_ls[0].size())\n",
    "print(losses.size())"
   ]
  },
  {
   "cell_type": "code",
   "execution_count": 13,
   "metadata": {},
   "outputs": [],
   "source": [
    "save_address = r\"D:\\Uni\\BA\\ColabOutputs\\colab_cml_bull_5k\\joint_01234\\losses.pickle\"\n",
    "with open(save_address, 'wb') as f:\n",
    "    pickle.dump(losses, f)"
   ]
  }
 ],
 "metadata": {
  "kernelspec": {
   "display_name": "Python 3",
   "language": "python",
   "name": "python3"
  },
  "language_info": {
   "codemirror_mode": {
    "name": "ipython",
    "version": 3
   },
   "file_extension": ".py",
   "mimetype": "text/x-python",
   "name": "python",
   "nbconvert_exporter": "python",
   "pygments_lexer": "ipython3",
   "version": "3.8.5"
  }
 },
 "nbformat": 4,
 "nbformat_minor": 4
}
